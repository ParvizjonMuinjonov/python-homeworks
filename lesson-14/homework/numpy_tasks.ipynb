{
 "cells": [
  {
   "cell_type": "code",
   "execution_count": 40,
   "metadata": {},
   "outputs": [],
   "source": [
    "import numpy as np"
   ]
  },
  {
   "cell_type": "markdown",
   "metadata": {},
   "source": [
    "# Task 1: Convert Fahrenheit to Celsius using NumPy\n",
    "\n",
    "## Problem Statement  \n",
    "Write a Python function that converts a temperature from Fahrenheit to Celsius.  \n",
    "Use `numpy.vectorize` to apply this function to an array of temperatures:  \n",
    "\n",
    "**Temperatures:** `[32, 68, 100, 212, 77]`\n",
    "\n",
    "### Formula:\n",
    "$$ C = (F - 32) \\times \\frac{5}{9} $$\n",
    "\n",
    "\n"
   ]
  },
  {
   "cell_type": "code",
   "execution_count": 27,
   "metadata": {},
   "outputs": [
    {
     "name": "stdout",
     "output_type": "stream",
     "text": [
      "[  0  20  38 100  25]\n"
     ]
    }
   ],
   "source": [
    "farenheit_temperature = np.array([32, 68, 100, 212, 77])\n",
    "\n",
    "@np.vectorize\n",
    "def convert_temperature_to_celsius(f):\n",
    "    return (f - 32) * (5/9) #Formula: C = (F - 32) * 5/9\n",
    "    \n",
    "celsius_temperature = convert_temperature_to_celsius(farenheit_temperature)\n",
    "\n",
    "celsius_temperature = np.round(celsius_temperature).astype(int)\n",
    "\n",
    "print(celsius_temperature)\n",
    "\n",
    "\n",
    "    \n"
   ]
  },
  {
   "cell_type": "markdown",
   "metadata": {},
   "source": [
    "# Task 2: Calculate Power Using NumPy\n",
    "\n",
    "## Problem Statement  \n",
    "Create a custom function that takes **two arguments**: a **number** and a **power**.  \n",
    "Use `numpy.vectorize` to calculate the power for each pair of numbers in the two arrays:  \n",
    "\n",
    "**Arrays:**  \n",
    "- **Base numbers:** `[2, 3, 4, 5]`  \n",
    "- **Exponents:** `[1, 2, 3, 4]`  \n",
    "\n",
    "\n"
   ]
  },
  {
   "cell_type": "code",
   "execution_count": 30,
   "metadata": {},
   "outputs": [
    {
     "name": "stdout",
     "output_type": "stream",
     "text": [
      "If we raise [2 3 4 5] to the power of 3 we get [  8  27  64 125]\n",
      "If we raise [1 2 3 4] to the power of 3 we get [ 1  8 27 64]\n"
     ]
    }
   ],
   "source": [
    "first_array = np.array([2, 3, 4, 5]).astype(int)\n",
    "second_array = np.array([1, 2, 3, 4]).astype(int)\n",
    "\n",
    "power = int(input(\"Enter the power: \"))\n",
    "\n",
    "@np.vectorize\n",
    "def power_arrays(array, power):\n",
    "    return array ** power\n",
    "\n",
    "first_powered_array = power_arrays(first_array, power)\n",
    "second_powered_array = power_arrays(second_array, power)\n",
    "\n",
    "print(f\"If we raise {first_array} to the power of {power} we get {first_powered_array}\")\n",
    "print(f\"If we raise {second_array} to the power of {power} we get {second_powered_array}\")"
   ]
  }
 ],
 "metadata": {
  "kernelspec": {
   "display_name": "Python 3",
   "language": "python",
   "name": "python3"
  },
  "language_info": {
   "codemirror_mode": {
    "name": "ipython",
    "version": 3
   },
   "file_extension": ".py",
   "mimetype": "text/x-python",
   "name": "python",
   "nbconvert_exporter": "python",
   "pygments_lexer": "ipython3",
   "version": "3.11.9"
  }
 },
 "nbformat": 4,
 "nbformat_minor": 2
}
